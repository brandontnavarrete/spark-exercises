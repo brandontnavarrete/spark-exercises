{
 "cells": [
  {
   "cell_type": "code",
   "execution_count": 1,
   "id": "b17151ca",
   "metadata": {},
   "outputs": [],
   "source": [
    "import pandas as pd \n",
    "import numpy as np  \n"
   ]
  },
  {
   "cell_type": "code",
   "execution_count": 130,
   "id": "dba41f3b",
   "metadata": {},
   "outputs": [],
   "source": [
    "import pyspark  \n",
    "import regex\n",
    "spark = pyspark.sql.SparkSession.builder.getOrCreate()\n",
    "\n",
    "import pyspark.sql.functions as F\n",
    "from pyspark.sql.functions import lit\n",
    "from pyspark.sql.functions import concat, sum, avg, min, max, count\n",
    "from pyspark.sql.functions import when, expr,col ,asc ,desc,datediff,current_timestamp,format_string, to_timestamp,trim,lower\n",
    "from pyspark.sql.functions import regexp_extract, regexp_replace "
   ]
  },
  {
   "cell_type": "markdown",
   "id": "3d40c855",
   "metadata": {},
   "source": [
    "# Read the case, department, and source data into their own spark dataframes."
   ]
  },
  {
   "cell_type": "code",
   "execution_count": 5,
   "id": "ea78d9aa",
   "metadata": {},
   "outputs": [],
   "source": [
    "from env import host, username, password\n",
    "\n",
    "def get_db_url(database, host=host, user=username, password=password):\n",
    "    return f'mysql+pymysql://{user}:{password}@{host}/{database}'"
   ]
  },
  {
   "cell_type": "code",
   "execution_count": 223,
   "id": "d5ba2c71",
   "metadata": {},
   "outputs": [],
   "source": [
    "# query from sql(311_data), case, source and dept.\n",
    "query = \"\"\"SELECT * FROM cases limit 100\"\"\"\n",
    "url = get_db_url(\"311_data\")\n",
    "source_df = pd.read_sql(query, url)\n",
    "case_df = spark.createDataFrame(source_df)"
   ]
  },
  {
   "cell_type": "code",
   "execution_count": 11,
   "id": "d287876d",
   "metadata": {},
   "outputs": [
    {
     "name": "stdout",
     "output_type": "stream",
     "text": [
      "+--------------------+--------------------+----------------------+-------------------+\n",
      "|       dept_division|           dept_name|standardized_dept_name|dept_subject_to_SLA|\n",
      "+--------------------+--------------------+----------------------+-------------------+\n",
      "|     311 Call Center|    Customer Service|      Customer Service|                YES|\n",
      "|               Brush|Solid Waste Manag...|           Solid Waste|                YES|\n",
      "|     Clean and Green|Parks and Recreation|    Parks & Recreation|                YES|\n",
      "|Clean and Green N...|Parks and Recreation|    Parks & Recreation|                YES|\n",
      "+--------------------+--------------------+----------------------+-------------------+\n",
      "only showing top 4 rows\n",
      "\n"
     ]
    }
   ],
   "source": [
    "query = \"\"\"SELECT * FROM dept limit 100\"\"\"\n",
    "url = get_db_url(\"311_data\")\n",
    "source_df = pd.read_sql(query, url)\n",
    "dept_df = spark.createDataFrame(source_df)\n",
    "dept_df.show(4)\n"
   ]
  },
  {
   "cell_type": "code",
   "execution_count": 19,
   "id": "61b47fbf",
   "metadata": {},
   "outputs": [
    {
     "name": "stdout",
     "output_type": "stream",
     "text": [
      "+-----+---------+----------------+\n",
      "|index|source_id| source_username|\n",
      "+-----+---------+----------------+\n",
      "|    0|   100137|Merlene Blodgett|\n",
      "|    1|   103582|     Carmen Cura|\n",
      "|    2|   106463| Richard Sanchez|\n",
      "|    3|   119403|  Betty De Hoyos|\n",
      "+-----+---------+----------------+\n",
      "only showing top 4 rows\n",
      "\n"
     ]
    }
   ],
   "source": [
    "\n",
    "query = \"\"\"SELECT * FROM source limit 100\"\"\"\n",
    "url = get_db_url(\"311_data\")\n",
    "source_df = pd.read_sql(query, url)\n",
    "source_df = spark.createDataFrame(source_df)"
   ]
  },
  {
   "cell_type": "code",
   "execution_count": 122,
   "id": "95ae73a1",
   "metadata": {},
   "outputs": [
    {
     "name": "stdout",
     "output_type": "stream",
     "text": [
      "+----------+----------------+----------------+------------+---------+-------------+-----------+----------------+--------------------+-----------+-----------+---------+--------------------+----------------+\n",
      "|   case_id|case_opened_date|case_closed_date|SLA_due_date|case_late|num_days_late|case_closed|   dept_division|service_request_type|   SLA_days|case_status|source_id|     request_address|council_district|\n",
      "+----------+----------------+----------------+------------+---------+-------------+-----------+----------------+--------------------+-----------+-----------+---------+--------------------+----------------+\n",
      "|1014127332|     1/1/18 0:42|    1/1/18 12:29|9/26/20 0:42|       NO| -998.5087616|        YES|Field Operations|        Stray Animal|      999.0|     Closed| svcCRMLS|2315  EL PASO ST,...|               5|\n",
      "|1014127333|     1/1/18 0:46|     1/3/18 8:11| 1/5/18 8:30|       NO| -2.012604167|        YES|     Storm Water|Removal Of Obstru...|4.322222222|     Closed| svcCRMSS|2215  GOLIAD RD, ...|               3|\n",
      "|1014127334|     1/1/18 0:48|     1/2/18 7:57| 1/5/18 8:30|       NO| -3.022337963|        YES|     Storm Water|Removal Of Obstru...|4.320729167|     Closed| svcCRMSS|102  PALFREY ST W...|               3|\n",
      "|1014127335|     1/1/18 1:29|     1/2/18 8:13|1/17/18 8:30|       NO| -15.01148148|        YES|Code Enforcement|Front Or Side Yar...|16.29188657|     Closed| svcCRMSS|114  LA GARDE ST,...|               3|\n",
      "+----------+----------------+----------------+------------+---------+-------------+-----------+----------------+--------------------+-----------+-----------+---------+--------------------+----------------+\n",
      "only showing top 4 rows\n",
      "\n"
     ]
    }
   ],
   "source": [
    "case_df.show(4)"
   ]
  },
  {
   "cell_type": "markdown",
   "id": "d105ef31",
   "metadata": {},
   "source": [
    "# Write the code necessary to store the source data in both csv and json format, store these as sources_csv and sources_json\n"
   ]
  },
  {
   "cell_type": "code",
   "execution_count": null,
   "id": "bcd51bd6",
   "metadata": {},
   "outputs": [],
   "source": [
    "# write to json and csv"
   ]
  },
  {
   "cell_type": "code",
   "execution_count": 22,
   "id": "8603106d",
   "metadata": {},
   "outputs": [],
   "source": [
    "source_df.write.json(\"data/source_json\", mode=\"overwrite\")"
   ]
  },
  {
   "cell_type": "code",
   "execution_count": 24,
   "id": "cd390518",
   "metadata": {},
   "outputs": [],
   "source": [
    "source_df.write.csv(\"data/source_csv\", mode=\"overwrite\")\n"
   ]
  },
  {
   "cell_type": "code",
   "execution_count": null,
   "id": "f33da326",
   "metadata": {},
   "outputs": [],
   "source": [
    "# Inspect your folder structure. What do you notice?# \n",
    "# it has created a folder in my repo called data, and saved them in their"
   ]
  },
  {
   "cell_type": "markdown",
   "id": "1848da39",
   "metadata": {},
   "source": [
    "# Inspect the data in your dataframes. Are the data types appropriate? Write the code necessary to cast the values to the appropriate types.\n",
    "\n"
   ]
  },
  {
   "cell_type": "code",
   "execution_count": 254,
   "id": "59ad282a",
   "metadata": {},
   "outputs": [],
   "source": [
    "# Rename column\n",
    "df = case_df.withColumnRenamed('SLA_due_date', 'case_due_date')"
   ]
  },
  {
   "cell_type": "code",
   "execution_count": 255,
   "id": "b5651be4",
   "metadata": {},
   "outputs": [],
   "source": [
    "# Convert to better data types\n",
    "df = (\n",
    "    df.withColumn('case_late', col('case_late') == 'YES')\n",
    "    .withColumn('case_closed', col('case_closed') == 'YES')\n",
    ")\n",
    "\n",
    "df = df.withColumn('council_district', format_string('%03d', col('council_district')))\n",
    "\n",
    "fmt = 'M/d/yy H:mm'\n",
    "df = (\n",
    "    df.withColumn('case_opened_date', to_timestamp(col('case_opened_date'), fmt))\n",
    "    .withColumn('case_closed_date', to_timestamp(col('case_closed_date'), fmt))\n",
    "    .withColumn('case_due_date', to_timestamp(col('case_due_date'), fmt))\n",
    ")"
   ]
  },
  {
   "cell_type": "code",
   "execution_count": 256,
   "id": "41f76831",
   "metadata": {},
   "outputs": [],
   "source": [
    "# Cleanup text data\n",
    "df = df.withColumn('request_address', lower(trim(col('request_address'))))"
   ]
  },
  {
   "cell_type": "code",
   "execution_count": 257,
   "id": "947f0d73",
   "metadata": {},
   "outputs": [],
   "source": [
    "# Create a `case_lifetime` feature\n",
    "df = (\n",
    "    df.withColumn('case_age', datediff(current_timestamp(), 'case_opened_date'))\n",
    "    .withColumn('days_to_closed', datediff('case_closed_date', 'case_opened_date'))\n",
    "    .withColumn('case_lifetime', when(\n",
    "        col('case_closed'), col('days_to_closed')).otherwise(col('case_age')))\n",
    "    .drop('case_age', 'days_to_closed')\n",
    ")"
   ]
  },
  {
   "cell_type": "code",
   "execution_count": null,
   "id": "13bafe0e",
   "metadata": {},
   "outputs": [],
   "source": []
  },
  {
   "cell_type": "markdown",
   "id": "1c0796b5",
   "metadata": {},
   "source": [
    "# How old is the latest (in terms of days past SLA) currently open issue? How long has the oldest (in terms of days since opened) currently opened issue been open?\n"
   ]
  },
  {
   "cell_type": "code",
   "execution_count": 258,
   "id": "acea6494",
   "metadata": {},
   "outputs": [
    {
     "name": "stdout",
     "output_type": "stream",
     "text": [
      "-RECORD 0------------------------------------\n",
      " case_id              | 1014127332           \n",
      " case_opened_date     | 2018-01-01 00:42:00  \n",
      " case_closed_date     | 2018-01-01 12:29:00  \n",
      " case_due_date        | 2020-09-26 00:42:00  \n",
      " case_late            | false                \n",
      " num_days_late        | -998.5087616         \n",
      " case_closed          | true                 \n",
      " dept_division        | Field Operations     \n",
      " service_request_type | Stray Animal         \n",
      " SLA_days             | 999.0                \n",
      " case_status          | Closed               \n",
      " source_id            | svcCRMLS             \n",
      " request_address      | 2315  el paso st,... \n",
      " council_district     | 005                  \n",
      " case_lifetime        | 0                    \n",
      "only showing top 1 row\n",
      "\n"
     ]
    }
   ],
   "source": [
    "df.show(1, vertical= True)\n"
   ]
  },
  {
   "cell_type": "code",
   "execution_count": 259,
   "id": "12e6aaf8",
   "metadata": {},
   "outputs": [
    {
     "name": "stdout",
     "output_type": "stream",
     "text": [
      "+---------------------+-------------+\n",
      "|(case_closed = false)|case_lifetime|\n",
      "+---------------------+-------------+\n",
      "|                false|          114|\n",
      "|                false|           84|\n",
      "|                false|           81|\n",
      "|                false|           78|\n",
      "|                false|           77|\n",
      "|                false|           77|\n",
      "|                false|           73|\n",
      "|                false|           51|\n",
      "|                false|           51|\n",
      "|                false|           51|\n",
      "|                false|           41|\n",
      "|                false|           30|\n",
      "|                false|            8|\n",
      "|                false|            5|\n",
      "|                false|            5|\n",
      "|                false|            5|\n",
      "|                false|            2|\n",
      "|                false|            2|\n",
      "|                false|            2|\n",
      "|                false|            2|\n",
      "+---------------------+-------------+\n",
      "only showing top 20 rows\n",
      "\n"
     ]
    }
   ],
   "source": [
    "df.select(df.case_closed == False ,\n",
    "          df.case_lifetime).sort(df.case_lifetime.desc()).show()"
   ]
  },
  {
   "cell_type": "markdown",
   "id": "d188f494",
   "metadata": {},
   "source": [
    "# How many Stray Animal cases are there?"
   ]
  },
  {
   "cell_type": "code",
   "execution_count": 260,
   "id": "32cd6405",
   "metadata": {},
   "outputs": [
    {
     "name": "stdout",
     "output_type": "stream",
     "text": [
      "+--------------------+-----+\n",
      "|service_request_type|count|\n",
      "+--------------------+-----+\n",
      "|Right Of Way/Side...|   13|\n",
      "|Front Or Side Yar...|   28|\n",
      "|        Stray Animal|   10|\n",
      "|Removal Of Obstru...|    2|\n",
      "|Traffic Signal Op...|    1|\n",
      "|Animal Cruelty(Cr...|    5|\n",
      "|Alley-Way Mainten...|    1|\n",
      "|   Dead Animal - Cat|    2|\n",
      "|Traffic Signal Op...|    3|\n",
      "|   Barricade Pick Up|    1|\n",
      "|Dead Trees: Priva...|    1|\n",
      "|Injured Animal(Cr...|    2|\n",
      "|Trapped/Confined ...|    5|\n",
      "|Aggressive Animal...|    6|\n",
      "|   Dead Animal - Dog|    3|\n",
      "|Aggressive Animal...|    2|\n",
      "|      Animal Neglect|   12|\n",
      "|Water Ponding or ...|    1|\n",
      "|Stop/Yield Sign D...|    1|\n",
      "|Graffiti Public P...|    1|\n",
      "+--------------------+-----+\n",
      "\n"
     ]
    }
   ],
   "source": [
    "df.groupBy('service_request_type').count().show()"
   ]
  },
  {
   "cell_type": "markdown",
   "id": "6d64930f",
   "metadata": {},
   "source": [
    "# How many service requests that are assigned to the Field Operations department (dept_division) ar"
   ]
  },
  {
   "cell_type": "code",
   "execution_count": 261,
   "id": "4319512a",
   "metadata": {},
   "outputs": [
    {
     "data": {
      "text/plain": [
       "100"
      ]
     },
     "execution_count": 261,
     "metadata": {},
     "output_type": "execute_result"
    }
   ],
   "source": [
    "df.select('service_request_type','dept_division').where(df.dept_division != 'Officer Standby').count()"
   ]
  },
  {
   "cell_type": "markdown",
   "id": "aa499b22",
   "metadata": {},
   "source": [
    "# Convert the council_district column to a string column."
   ]
  },
  {
   "cell_type": "code",
   "execution_count": 262,
   "id": "d75c9f72",
   "metadata": {},
   "outputs": [
    {
     "data": {
      "text/plain": [
       "DataFrame[case_id: bigint, case_opened_date: timestamp, case_closed_date: timestamp, case_due_date: timestamp, case_late: boolean, num_days_late: double, case_closed: boolean, dept_division: string, service_request_type: string, SLA_days: double, case_status: string, source_id: string, request_address: string, council_district: string, case_lifetime: int]"
      ]
     },
     "execution_count": 262,
     "metadata": {},
     "output_type": "execute_result"
    }
   ],
   "source": [
    "df.withColumn('council_district',(df.council_district).cast('string'))\n"
   ]
  },
  {
   "cell_type": "markdown",
   "id": "167eef8a",
   "metadata": {},
   "source": [
    "# Extract the year from the case_closed_date column."
   ]
  },
  {
   "cell_type": "code",
   "execution_count": 263,
   "id": "9b7dc7e0",
   "metadata": {},
   "outputs": [
    {
     "ename": "NameError",
     "evalue": "name 'weather' is not defined",
     "output_type": "error",
     "traceback": [
      "\u001b[0;31m---------------------------------------------------------------------------\u001b[0m",
      "\u001b[0;31mNameError\u001b[0m                                 Traceback (most recent call last)",
      "\u001b[0;32m/var/folders/d0/5dr5q0n145vcn3_m9dxy1xq80000gn/T/ipykernel_47339/3778499424.py\u001b[0m in \u001b[0;36m<module>\u001b[0;34m\u001b[0m\n\u001b[0;32m----> 1\u001b[0;31m \u001b[0mweather\u001b[0m\u001b[0;34m.\u001b[0m\u001b[0mwithColumn\u001b[0m\u001b[0;34m(\u001b[0m\u001b[0;34m'month'\u001b[0m\u001b[0;34m,\u001b[0m \u001b[0mF\u001b[0m\u001b[0;34m.\u001b[0m\u001b[0mmonth\u001b[0m\u001b[0;34m(\u001b[0m\u001b[0mweather\u001b[0m\u001b[0;34m.\u001b[0m\u001b[0mdate\u001b[0m\u001b[0;34m)\u001b[0m\u001b[0;34m)\u001b[0m\u001b[0;34m.\u001b[0m\u001b[0mgroupBy\u001b[0m\u001b[0;34m(\u001b[0m\u001b[0mF\u001b[0m\u001b[0;34m.\u001b[0m\u001b[0mcol\u001b[0m\u001b[0;34m(\u001b[0m\u001b[0;34m'month'\u001b[0m\u001b[0;34m)\u001b[0m\u001b[0;34m)\u001b[0m\u001b[0;34m.\u001b[0m\u001b[0magg\u001b[0m\u001b[0;34m(\u001b[0m\u001b[0mF\u001b[0m\u001b[0;34m.\u001b[0m\u001b[0mmean\u001b[0m\u001b[0;34m(\u001b[0m\u001b[0mweather\u001b[0m\u001b[0;34m.\u001b[0m\u001b[0mprecipitation\u001b[0m\u001b[0;34m)\u001b[0m\u001b[0;34m.\u001b[0m\u001b[0malias\u001b[0m\u001b[0;34m(\u001b[0m\u001b[0;34m'avg_rain'\u001b[0m\u001b[0;34m)\u001b[0m\u001b[0;34m)\u001b[0m\u001b[0;34m.\u001b[0m\u001b[0msort\u001b[0m\u001b[0;34m(\u001b[0m\u001b[0mF\u001b[0m\u001b[0;34m.\u001b[0m\u001b[0mcol\u001b[0m\u001b[0;34m(\u001b[0m\u001b[0;34m'avg_rain'\u001b[0m\u001b[0;34m)\u001b[0m\u001b[0;34m)\u001b[0m\u001b[0;34m.\u001b[0m\u001b[0mshow\u001b[0m\u001b[0;34m(\u001b[0m\u001b[0;34m)\u001b[0m\u001b[0;34m\u001b[0m\u001b[0;34m\u001b[0m\u001b[0m\n\u001b[0m",
      "\u001b[0;31mNameError\u001b[0m: name 'weather' is not defined"
     ]
    }
   ],
   "source": [
    "weather.withColumn('month', F.month(weather.date)).groupBy(F.col('month')).agg(F.mean(weather.precipitation).alias('avg_rain')).sort(F.col('avg_rain')).show()\n"
   ]
  },
  {
   "cell_type": "code",
   "execution_count": 264,
   "id": "9e6fe767",
   "metadata": {},
   "outputs": [],
   "source": [
    "df  = df.withColumn('year_closed',F.year('case_closed_date'))\n"
   ]
  },
  {
   "cell_type": "markdown",
   "id": "4708a0a1",
   "metadata": {},
   "source": [
    "# Convert num_days_late from days to hours in new columns num_hours_late."
   ]
  },
  {
   "cell_type": "code",
   "execution_count": 265,
   "id": "8f488706",
   "metadata": {},
   "outputs": [],
   "source": [
    "df = df.withColumn('num_hours_late',expr('num_days_late * 24'))\n"
   ]
  },
  {
   "cell_type": "code",
   "execution_count": 266,
   "id": "212e684a",
   "metadata": {},
   "outputs": [
    {
     "name": "stdout",
     "output_type": "stream",
     "text": [
      "-RECORD 0------------------------------------\n",
      " case_id              | 1014127332           \n",
      " case_opened_date     | 2018-01-01 00:42:00  \n",
      " case_closed_date     | 2018-01-01 12:29:00  \n",
      " case_due_date        | 2020-09-26 00:42:00  \n",
      " case_late            | false                \n",
      " num_days_late        | -998.5087616         \n",
      " case_closed          | true                 \n",
      " dept_division        | Field Operations     \n",
      " service_request_type | Stray Animal         \n",
      " SLA_days             | 999.0                \n",
      " case_status          | Closed               \n",
      " source_id            | svcCRMLS             \n",
      " request_address      | 2315  el paso st,... \n",
      " council_district     | 005                  \n",
      " case_lifetime        | 0                    \n",
      " year_closed          | 2018                 \n",
      " num_hours_late       | -23964.210278399998  \n",
      "-RECORD 1------------------------------------\n",
      " case_id              | 1014127333           \n",
      " case_opened_date     | 2018-01-01 00:46:00  \n",
      " case_closed_date     | 2018-01-03 08:11:00  \n",
      " case_due_date        | 2018-01-05 08:30:00  \n",
      " case_late            | false                \n",
      " num_days_late        | -2.012604167         \n",
      " case_closed          | true                 \n",
      " dept_division        | Storm Water          \n",
      " service_request_type | Removal Of Obstru... \n",
      " SLA_days             | 4.322222222          \n",
      " case_status          | Closed               \n",
      " source_id            | svcCRMSS             \n",
      " request_address      | 2215  goliad rd, ... \n",
      " council_district     | 003                  \n",
      " case_lifetime        | 2                    \n",
      " year_closed          | 2018                 \n",
      " num_hours_late       | -48.302500008        \n",
      "-RECORD 2------------------------------------\n",
      " case_id              | 1014127334           \n",
      " case_opened_date     | 2018-01-01 00:48:00  \n",
      " case_closed_date     | 2018-01-02 07:57:00  \n",
      " case_due_date        | 2018-01-05 08:30:00  \n",
      " case_late            | false                \n",
      " num_days_late        | -3.022337963         \n",
      " case_closed          | true                 \n",
      " dept_division        | Storm Water          \n",
      " service_request_type | Removal Of Obstru... \n",
      " SLA_days             | 4.320729167          \n",
      " case_status          | Closed               \n",
      " source_id            | svcCRMSS             \n",
      " request_address      | 102  palfrey st w... \n",
      " council_district     | 003                  \n",
      " case_lifetime        | 1                    \n",
      " year_closed          | 2018                 \n",
      " num_hours_late       | -72.536111112        \n",
      "-RECORD 3------------------------------------\n",
      " case_id              | 1014127335           \n",
      " case_opened_date     | 2018-01-01 01:29:00  \n",
      " case_closed_date     | 2018-01-02 08:13:00  \n",
      " case_due_date        | 2018-01-17 08:30:00  \n",
      " case_late            | false                \n",
      " num_days_late        | -15.01148148         \n",
      " case_closed          | true                 \n",
      " dept_division        | Code Enforcement     \n",
      " service_request_type | Front Or Side Yar... \n",
      " SLA_days             | 16.29188657          \n",
      " case_status          | Closed               \n",
      " source_id            | svcCRMSS             \n",
      " request_address      | 114  la garde st,... \n",
      " council_district     | 003                  \n",
      " case_lifetime        | 1                    \n",
      " year_closed          | 2018                 \n",
      " num_hours_late       | -360.27555552        \n",
      "-RECORD 4------------------------------------\n",
      " case_id              | 1014127336           \n",
      " case_opened_date     | 2018-01-01 01:34:00  \n",
      " case_closed_date     | 2018-01-01 13:29:00  \n",
      " case_due_date        | 2018-01-01 04:34:00  \n",
      " case_late            | true                 \n",
      " num_days_late        | 0.372164352          \n",
      " case_closed          | true                 \n",
      " dept_division        | Field Operations     \n",
      " service_request_type | Animal Cruelty(Cr... \n",
      " SLA_days             | 0.125                \n",
      " case_status          | Closed               \n",
      " source_id            | svcCRMSS             \n",
      " request_address      | 734  clearview dr... \n",
      " council_district     | 007                  \n",
      " case_lifetime        | 0                    \n",
      " year_closed          | 2018                 \n",
      " num_hours_late       | 8.931944448          \n",
      "-RECORD 5------------------------------------\n",
      " case_id              | 1014127337           \n",
      " case_opened_date     | 2018-01-01 06:28:00  \n",
      " case_closed_date     | 2018-01-01 14:38:00  \n",
      " case_due_date        | 2018-01-31 08:30:00  \n",
      " case_late            | false                \n",
      " num_days_late        | -29.74398148         \n",
      " case_closed          | true                 \n",
      " dept_division        | Signals              \n",
      " service_request_type | Traffic Signal Op... \n",
      " SLA_days             | 30.08446759          \n",
      " case_status          | Closed               \n",
      " source_id            | svcCRMSS             \n",
      " request_address      | bandera rd and br... \n",
      " council_district     | 007                  \n",
      " case_lifetime        | 0                    \n",
      " year_closed          | 2018                 \n",
      " num_hours_late       | -713.8555555199999   \n",
      "-RECORD 6------------------------------------\n",
      " case_id              | 1014127338           \n",
      " case_opened_date     | 2018-01-01 06:57:00  \n",
      " case_closed_date     | 2018-01-02 15:32:00  \n",
      " case_due_date        | 2018-01-17 08:30:00  \n",
      " case_late            | false                \n",
      " num_days_late        | -14.70673611         \n",
      " case_closed          | true                 \n",
      " dept_division        | Code Enforcement     \n",
      " service_request_type | Front Or Side Yar... \n",
      " SLA_days             | 16.06429398          \n",
      " case_status          | Closed               \n",
      " source_id            | svcCRMSS             \n",
      " request_address      | 10133  figaro can... \n",
      " council_district     | 004                  \n",
      " case_lifetime        | 1                    \n",
      " year_closed          | 2018                 \n",
      " num_hours_late       | -352.96166664        \n",
      "-RECORD 7------------------------------------\n",
      " case_id              | 1014127339           \n",
      " case_opened_date     | 2018-01-01 06:58:00  \n",
      " case_closed_date     | 2018-01-02 15:32:00  \n",
      " case_due_date        | 2018-01-17 08:30:00  \n",
      " case_late            | false                \n",
      " num_days_late        | -14.70662037         \n",
      " case_closed          | true                 \n",
      " dept_division        | Code Enforcement     \n",
      " service_request_type | Front Or Side Yar... \n",
      " SLA_days             | 16.063796300000003   \n",
      " case_status          | Closed               \n",
      " source_id            | svcCRMSS             \n",
      " request_address      | 10133  figaro can... \n",
      " council_district     | 004                  \n",
      " case_lifetime        | 1                    \n",
      " year_closed          | 2018                 \n",
      " num_hours_late       | -352.95888888        \n",
      "-RECORD 8------------------------------------\n",
      " case_id              | 1014127340           \n",
      " case_opened_date     | 2018-01-01 06:58:00  \n",
      " case_closed_date     | 2018-01-02 15:32:00  \n",
      " case_due_date        | 2018-01-17 08:30:00  \n",
      " case_late            | false                \n",
      " num_days_late        | -14.70662037         \n",
      " case_closed          | true                 \n",
      " dept_division        | Code Enforcement     \n",
      " service_request_type | Right Of Way/Side... \n",
      " SLA_days             | 16.06333333          \n",
      " case_status          | Closed               \n",
      " source_id            | svcCRMSS             \n",
      " request_address      | 10133  figaro can... \n",
      " council_district     | 004                  \n",
      " case_lifetime        | 1                    \n",
      " year_closed          | 2018                 \n",
      " num_hours_late       | -352.95888888        \n",
      "-RECORD 9------------------------------------\n",
      " case_id              | 1014127341           \n",
      " case_opened_date     | 2018-01-01 06:59:00  \n",
      " case_closed_date     | 2018-01-02 15:32:00  \n",
      " case_due_date        | 2018-01-17 08:30:00  \n",
      " case_late            | false                \n",
      " num_days_late        | -14.70649306         \n",
      " case_closed          | true                 \n",
      " dept_division        | Code Enforcement     \n",
      " service_request_type | Front Or Side Yar... \n",
      " SLA_days             | 16.0628588           \n",
      " case_status          | Closed               \n",
      " source_id            | svcCRMSS             \n",
      " request_address      | 10133  figaro can... \n",
      " council_district     | 004                  \n",
      " case_lifetime        | 1                    \n",
      " year_closed          | 2018                 \n",
      " num_hours_late       | -352.95583344        \n",
      "-RECORD 10-----------------------------------\n",
      " case_id              | 1014127342           \n",
      " case_opened_date     | 2018-01-01 07:00:00  \n",
      " case_closed_date     | 2018-01-02 15:32:00  \n",
      " case_due_date        | 2018-01-17 08:30:00  \n",
      " case_late            | false                \n",
      " num_days_late        | -14.70649306         \n",
      " case_closed          | true                 \n",
      " dept_division        | Code Enforcement     \n",
      " service_request_type | Front Or Side Yar... \n",
      " SLA_days             | 16.06237269          \n",
      " case_status          | Closed               \n",
      " source_id            | svcCRMSS             \n",
      " request_address      | 10133  figaro can... \n",
      " council_district     | 004                  \n",
      " case_lifetime        | 1                    \n",
      " year_closed          | 2018                 \n",
      " num_hours_late       | -352.95583344        \n",
      "-RECORD 11-----------------------------------\n",
      " case_id              | 1014127343           \n",
      " case_opened_date     | 2018-01-01 07:02:00  \n",
      " case_closed_date     | 2018-01-02 15:32:00  \n",
      " case_due_date        | 2018-01-17 08:30:00  \n",
      " case_late            | false                \n",
      " num_days_late        | -14.70636574         \n",
      " case_closed          | true                 \n",
      " dept_division        | Code Enforcement     \n",
      " service_request_type | Right Of Way/Side... \n",
      " SLA_days             | 16.06104167          \n",
      " case_status          | Closed               \n",
      " source_id            | svcCRMSS             \n",
      " request_address      | 10133  figaro can... \n",
      " council_district     | 004                  \n",
      " case_lifetime        | 1                    \n",
      " year_closed          | 2018                 \n",
      " num_hours_late       | -352.95277776        \n",
      "-RECORD 12-----------------------------------\n",
      " case_id              | 1014127344           \n",
      " case_opened_date     | 2018-01-01 07:02:00  \n",
      " case_closed_date     | 2018-01-02 15:33:00  \n",
      " case_due_date        | 2018-01-17 08:30:00  \n",
      " case_late            | false                \n",
      " num_days_late        | -14.70625            \n",
      " case_closed          | true                 \n",
      " dept_division        | Code Enforcement     \n",
      " service_request_type | Front Or Side Yar... \n",
      " SLA_days             | 16.06059028          \n",
      " case_status          | Closed               \n",
      " source_id            | svcCRMSS             \n",
      " request_address      | 10129  boxing pas... \n",
      " council_district     | 004                  \n",
      " case_lifetime        | 1                    \n",
      " year_closed          | 2018                 \n",
      " num_hours_late       | -352.95000000000005  \n",
      "-RECORD 13-----------------------------------\n",
      " case_id              | 1014127345           \n",
      " case_opened_date     | 2018-01-01 07:03:00  \n",
      " case_closed_date     | 2018-01-02 15:32:00  \n",
      " case_due_date        | 2018-01-17 08:30:00  \n",
      " case_late            | false                \n",
      " num_days_late        | -14.70636574         \n",
      " case_closed          | true                 \n",
      " dept_division        | Code Enforcement     \n",
      " service_request_type | Front Or Side Yar... \n",
      " SLA_days             | 16.06011574          \n",
      " case_status          | Closed               \n",
      " source_id            | svcCRMSS             \n",
      " request_address      | 10129  boxing pas... \n",
      " council_district     | 004                  \n",
      " case_lifetime        | 1                    \n",
      " year_closed          | 2018                 \n",
      " num_hours_late       | -352.95277776        \n",
      "-RECORD 14-----------------------------------\n",
      " case_id              | 1014127346           \n",
      " case_opened_date     | 2018-01-01 07:04:00  \n",
      " case_closed_date     | 2018-01-02 15:33:00  \n",
      " case_due_date        | 2018-01-17 08:30:00  \n",
      " case_late            | false                \n",
      " num_days_late        | -14.70623843         \n",
      " case_closed          | true                 \n",
      " dept_division        | Code Enforcement     \n",
      " service_request_type | Right Of Way/Side... \n",
      " SLA_days             | 16.05953704          \n",
      " case_status          | Closed               \n",
      " source_id            | svcCRMSS             \n",
      " request_address      | 10129  boxing pas... \n",
      " council_district     | 004                  \n",
      " case_lifetime        | 1                    \n",
      " year_closed          | 2018                 \n",
      " num_hours_late       | -352.94972232000003  \n",
      "-RECORD 15-----------------------------------\n",
      " case_id              | 1014127347           \n",
      " case_opened_date     | 2018-01-01 07:04:00  \n",
      " case_closed_date     | 2018-01-02 15:33:00  \n",
      " case_due_date        | 2018-01-17 08:30:00  \n",
      " case_late            | false                \n",
      " num_days_late        | -14.705891199999998  \n",
      " case_closed          | true                 \n",
      " dept_division        | Code Enforcement     \n",
      " service_request_type | Front Or Side Yar... \n",
      " SLA_days             | 16.05907407          \n",
      " case_status          | Closed               \n",
      " source_id            | svcCRMSS             \n",
      " request_address      | 834  barrel point... \n",
      " council_district     | 004                  \n",
      " case_lifetime        | 1                    \n",
      " year_closed          | 2018                 \n",
      " num_hours_late       | -352.94138879999997  \n",
      "-RECORD 16-----------------------------------\n",
      " case_id              | 1014127348           \n",
      " case_opened_date     | 2018-01-01 07:05:00  \n",
      " case_closed_date     | 2018-01-02 15:33:00  \n",
      " case_due_date        | 2018-01-17 08:30:00  \n",
      " case_late            | false                \n",
      " num_days_late        | -14.70600694         \n",
      " case_closed          | true                 \n",
      " dept_division        | Code Enforcement     \n",
      " service_request_type | Front Or Side Yar... \n",
      " SLA_days             | 16.05864583          \n",
      " case_status          | Closed               \n",
      " source_id            | svcCRMSS             \n",
      " request_address      | 834  barrel point... \n",
      " council_district     | 004                  \n",
      " case_lifetime        | 1                    \n",
      " year_closed          | 2018                 \n",
      " num_hours_late       | -352.94416656        \n",
      "-RECORD 17-----------------------------------\n",
      " case_id              | 1014127349           \n",
      " case_opened_date     | 2018-01-01 07:06:00  \n",
      " case_closed_date     | 2018-01-02 15:33:00  \n",
      " case_due_date        | 2018-01-17 08:30:00  \n",
      " case_late            | false                \n",
      " num_days_late        | -14.70576389         \n",
      " case_closed          | true                 \n",
      " dept_division        | Code Enforcement     \n",
      " service_request_type | Right Of Way/Side... \n",
      " SLA_days             | 16.05819444          \n",
      " case_status          | Closed               \n",
      " source_id            | svcCRMSS             \n",
      " request_address      | 834  barrel point... \n",
      " council_district     | 004                  \n",
      " case_lifetime        | 1                    \n",
      " year_closed          | 2018                 \n",
      " num_hours_late       | -352.93833336        \n",
      "-RECORD 18-----------------------------------\n",
      " case_id              | 1014127350           \n",
      " case_opened_date     | 2018-01-01 07:06:00  \n",
      " case_closed_date     | 2018-01-02 15:33:00  \n",
      " case_due_date        | 2018-01-17 08:30:00  \n",
      " case_late            | false                \n",
      " num_days_late        | -14.70576389         \n",
      " case_closed          | true                 \n",
      " dept_division        | Code Enforcement     \n",
      " service_request_type | Front Or Side Yar... \n",
      " SLA_days             | 16.05775463          \n",
      " case_status          | Closed               \n",
      " source_id            | svcCRMSS             \n",
      " request_address      | 834  barrel point... \n",
      " council_district     | 004                  \n",
      " case_lifetime        | 1                    \n",
      " year_closed          | 2018                 \n",
      " num_hours_late       | -352.93833336        \n",
      "-RECORD 19-----------------------------------\n",
      " case_id              | 1014127351           \n",
      " case_opened_date     | 2018-01-01 07:07:00  \n",
      " case_closed_date     | 2018-01-02 15:33:00  \n",
      " case_due_date        | 2018-01-17 08:30:00  \n",
      " case_late            | false                \n",
      " num_days_late        | -14.70564815         \n",
      " case_closed          | true                 \n",
      " dept_division        | Code Enforcement     \n",
      " service_request_type | Front Or Side Yar... \n",
      " SLA_days             | 16.05733796          \n",
      " case_status          | Closed               \n",
      " source_id            | svcCRMSS             \n",
      " request_address      | 834  barrel point... \n",
      " council_district     | 004                  \n",
      " case_lifetime        | 1                    \n",
      " year_closed          | 2018                 \n",
      " num_hours_late       | -352.9355556         \n",
      "only showing top 20 rows\n",
      "\n"
     ]
    }
   ],
   "source": [
    "df.show(vertical= True)"
   ]
  },
  {
   "cell_type": "markdown",
   "id": "536156b5",
   "metadata": {},
   "source": [
    "# Join the case data with the source and department data."
   ]
  },
  {
   "cell_type": "code",
   "execution_count": 267,
   "id": "8b8f0815",
   "metadata": {},
   "outputs": [
    {
     "data": {
      "text/plain": [
       "Index(['case_id', 'case_opened_date', 'case_closed_date', 'SLA_due_date',\n",
       "       'case_late', 'num_days_late', 'case_closed', 'dept_division',\n",
       "       'service_request_type', 'SLA_days', 'case_status', 'source_id',\n",
       "       'request_address', 'council_district'],\n",
       "      dtype='object')"
      ]
     },
     "execution_count": 267,
     "metadata": {},
     "output_type": "execute_result"
    }
   ],
   "source": [
    "source_df.columns"
   ]
  },
  {
   "cell_type": "code",
   "execution_count": 268,
   "id": "336fca20",
   "metadata": {},
   "outputs": [
    {
     "data": {
      "text/plain": [
       "['case_id',\n",
       " 'case_opened_date',\n",
       " 'case_closed_date',\n",
       " 'case_due_date',\n",
       " 'case_late',\n",
       " 'num_days_late',\n",
       " 'case_closed',\n",
       " 'dept_division',\n",
       " 'service_request_type',\n",
       " 'SLA_days',\n",
       " 'case_status',\n",
       " 'source_id',\n",
       " 'request_address',\n",
       " 'council_district',\n",
       " 'case_lifetime',\n",
       " 'year_closed',\n",
       " 'num_hours_late']"
      ]
     },
     "execution_count": 268,
     "metadata": {},
     "output_type": "execute_result"
    }
   ],
   "source": [
    "df.columns"
   ]
  },
  {
   "cell_type": "code",
   "execution_count": 269,
   "id": "1c701727",
   "metadata": {},
   "outputs": [],
   "source": [
    "source_df = spark.createDataFrame(source_df)"
   ]
  },
  {
   "cell_type": "code",
   "execution_count": 349,
   "id": "179dd53f",
   "metadata": {},
   "outputs": [],
   "source": [
    "dfj = (\n",
    "    df.join(source_df, \"case_id\", \"left\")\n",
    "    .drop(source_df.case_id)\n",
    "    .drop(source_df.source_id)\n",
    "    .drop(source_df.service_request_type)\n",
    "    .drop(source_df.num_days_late)\n",
    "    .drop(source_df.dept_division)\n",
    "    \n",
    ")\n"
   ]
  },
  {
   "cell_type": "code",
   "execution_count": 338,
   "id": "2a5f91d7",
   "metadata": {},
   "outputs": [
    {
     "name": "stdout",
     "output_type": "stream",
     "text": [
      "-RECORD 0------------------------------------\n",
      " case_id              | 1014127332           \n",
      " case_opened_date     | 2018-01-01 00:42:00  \n",
      " case_closed_date     | 2018-01-01 12:29:00  \n",
      " case_due_date        | 2020-09-26 00:42:00  \n",
      " case_late            | false                \n",
      " num_days_late        | -998.5087616         \n",
      " case_closed          | true                 \n",
      " dept_division        | Field Operations     \n",
      " service_request_type | Stray Animal         \n",
      " SLA_days             | 999.0                \n",
      " case_status          | Closed               \n",
      " source_id            | svcCRMLS             \n",
      " request_address      | 2315  el paso st,... \n",
      " council_district     | 005                  \n",
      " case_lifetime        | 0                    \n",
      " year_closed          | 2018                 \n",
      " num_hours_late       | -23964.210278399998  \n",
      " case_opened_date     | 1/1/18 0:42          \n",
      " case_closed_date     | 1/1/18 12:29         \n",
      " SLA_due_date         | 9/26/20 0:42         \n",
      " case_late            | NO                   \n",
      " case_closed          | YES                  \n",
      " dept_division        | Field Operations     \n",
      " SLA_days             | 999.0                \n",
      " case_status          | Closed               \n",
      " request_address      | 2315  EL PASO ST,... \n",
      " council_district     | 5                    \n",
      "only showing top 1 row\n",
      "\n"
     ]
    }
   ],
   "source": [
    "dfj.show(1,vertical= True)"
   ]
  },
  {
   "cell_type": "markdown",
   "id": "53993a0e",
   "metadata": {},
   "source": [
    "# Are there any cases that do not have a request source?"
   ]
  },
  {
   "cell_type": "code",
   "execution_count": 288,
   "id": "657bad8c",
   "metadata": {},
   "outputs": [
    {
     "name": "stdout",
     "output_type": "stream",
     "text": [
      "+---------+----------------+\n",
      "|source_id|count(source_id)|\n",
      "+---------+----------------+\n",
      "|  ns16326|              21|\n",
      "|   139344|              24|\n",
      "| svcCRMSS|              53|\n",
      "| svcCRMLS|               2|\n",
      "+---------+----------------+\n",
      "\n"
     ]
    }
   ],
   "source": [
    "dfj.groupBy('source_id').agg(count(dfj.source_id)).show()"
   ]
  },
  {
   "cell_type": "code",
   "execution_count": 306,
   "id": "f9ce8d55",
   "metadata": {},
   "outputs": [
    {
     "data": {
      "text/plain": [
       "100"
      ]
     },
     "execution_count": 306,
     "metadata": {},
     "output_type": "execute_result"
    }
   ],
   "source": [
    "dfj.count()"
   ]
  },
  {
   "cell_type": "code",
   "execution_count": 305,
   "id": "4d16baf6",
   "metadata": {},
   "outputs": [
    {
     "data": {
      "text/plain": [
       "100"
      ]
     },
     "execution_count": 305,
     "metadata": {},
     "output_type": "execute_result"
    }
   ],
   "source": [
    "dfj.select(dfj.source_id == 'nan').count()\n"
   ]
  },
  {
   "cell_type": "markdown",
   "id": "e38cfbf6",
   "metadata": {},
   "source": [
    "# What are the top 10 service request types in terms of number of requests?"
   ]
  },
  {
   "cell_type": "code",
   "execution_count": 323,
   "id": "b077bc1d",
   "metadata": {},
   "outputs": [
    {
     "name": "stdout",
     "output_type": "stream",
     "text": [
      "+--------------------+-----+\n",
      "|service_request_type|count|\n",
      "+--------------------+-----+\n",
      "|Front Or Side Yar...|   28|\n",
      "|Right Of Way/Side...|   13|\n",
      "|      Animal Neglect|   12|\n",
      "|        Stray Animal|   10|\n",
      "|Aggressive Animal...|    6|\n",
      "|Animal Cruelty(Cr...|    5|\n",
      "|Trapped/Confined ...|    5|\n",
      "|Traffic Signal Op...|    3|\n",
      "|   Dead Animal - Dog|    3|\n",
      "|Injured Animal(Cr...|    2|\n",
      "+--------------------+-----+\n",
      "only showing top 10 rows\n",
      "\n"
     ]
    }
   ],
   "source": [
    "dfj.groupBy('service_request_type').count().sort(F.col('count').desc()).show(10)\n"
   ]
  },
  {
   "cell_type": "markdown",
   "id": "f70206ce",
   "metadata": {},
   "source": [
    "# What are the top 10 service request types in terms of average days late?"
   ]
  },
  {
   "cell_type": "code",
   "execution_count": 337,
   "id": "cfc2d646",
   "metadata": {},
   "outputs": [
    {
     "name": "stdout",
     "output_type": "stream",
     "text": [
      "+--------------------+-------------+\n",
      "|service_request_type|avg_days_late|\n",
      "+--------------------+-------------+\n",
      "|Aggressive Animal...|        97.24|\n",
      "|      Animal Neglect|        43.43|\n",
      "|Aggressive Animal...|         5.45|\n",
      "|Trapped/Confined ...|         0.78|\n",
      "|Animal Cruelty(Cr...|         0.04|\n",
      "|Injured Animal(Cr...|        -0.07|\n",
      "|   Dead Animal - Cat|        -1.09|\n",
      "|   Dead Animal - Dog|        -1.16|\n",
      "|Graffiti Public P...|        -1.65|\n",
      "|Traffic Signal Op...|        -1.88|\n",
      "+--------------------+-------------+\n",
      "only showing top 10 rows\n",
      "\n"
     ]
    }
   ],
   "source": [
    "dfj.groupBy('service_request_type').agg(F.round(F.mean('num_days_late'),2).alias('avg_days_late')).sort(F.col('avg_days_late').desc()).show(10)\n"
   ]
  },
  {
   "cell_type": "markdown",
   "id": "20643187",
   "metadata": {},
   "source": [
    "# Does number of days late depend on department?"
   ]
  },
  {
   "cell_type": "code",
   "execution_count": 359,
   "id": "6d6165c4",
   "metadata": {},
   "outputs": [
    {
     "name": "stdout",
     "output_type": "stream",
     "text": [
      "+------------------+-------------------+\n",
      "|     dept_division|           avg_late|\n",
      "+------------------+-------------------+\n",
      "|     Miscellaneous|      -1.1340763888|\n",
      "|          Graffiti|       -1.649409722|\n",
      "|Signs and Markings|       -1.945706019|\n",
      "|       Storm Water|       -2.517471065|\n",
      "|           Signals| -8.849137730999999|\n",
      "|  Code Enforcement|-17.002187499069766|\n",
      "|           Streets|-24.383096065500002|\n",
      "|  Field Operations| -219.9206836960952|\n",
      "+------------------+-------------------+\n",
      "\n"
     ]
    }
   ],
   "source": [
    "dfj.groupBy('dept_division').agg(F.mean('num_days_late').alias('avg_late')).sort(F.col('avg_late').desc()).show()\n"
   ]
  },
  {
   "cell_type": "markdown",
   "id": "5430e575",
   "metadata": {},
   "source": [
    "# How do number of days late depend on department and request type?\n"
   ]
  },
  {
   "cell_type": "code",
   "execution_count": 366,
   "id": "3b421f9b",
   "metadata": {},
   "outputs": [
    {
     "name": "stdout",
     "output_type": "stream",
     "text": [
      "+--------------------+------------------+-------------------+\n",
      "|service_request_type|     dept_division| avg(num_days_late)|\n",
      "+--------------------+------------------+-------------------+\n",
      "|        Stray Animal|  Field Operations| -998.8975937499999|\n",
      "|Alley-Way Mainten...|  Code Enforcement|       -63.98395833|\n",
      "|Dead Trees: Priva...|  Code Enforcement|       -63.79819444|\n",
      "|Water Ponding or ...|           Streets|       -42.78289352|\n",
      "|Traffic Signal Op...|           Signals|       -29.74398148|\n",
      "|Front Or Side Yar...|  Code Enforcement|-14.718330439285713|\n",
      "|Right Of Way/Side...|  Code Enforcement|       -14.70758903|\n",
      "|   Barricade Pick Up|           Streets|       -5.983298611|\n",
      "|Removal Of Obstru...|       Storm Water|       -2.517471065|\n",
      "|Stop/Yield Sign D...|Signs and Markings|       -1.945706019|\n",
      "+--------------------+------------------+-------------------+\n",
      "only showing top 10 rows\n",
      "\n"
     ]
    }
   ],
   "source": [
    "dfj.groupBy('service_request_type','dept_division').agg(F.mean('num_days_late')).sort(F.col('avg(num_days_late)')).show(10)"
   ]
  },
  {
   "cell_type": "code",
   "execution_count": null,
   "id": "bcc3b2c4",
   "metadata": {},
   "outputs": [],
   "source": []
  }
 ],
 "metadata": {
  "kernelspec": {
   "display_name": "Python 3 (ipykernel)",
   "language": "python",
   "name": "python3"
  },
  "language_info": {
   "codemirror_mode": {
    "name": "ipython",
    "version": 3
   },
   "file_extension": ".py",
   "mimetype": "text/x-python",
   "name": "python",
   "nbconvert_exporter": "python",
   "pygments_lexer": "ipython3",
   "version": "3.9.13"
  }
 },
 "nbformat": 4,
 "nbformat_minor": 5
}
